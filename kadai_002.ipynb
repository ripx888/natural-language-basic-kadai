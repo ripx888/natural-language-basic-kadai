{
  "nbformat": 4,
  "nbformat_minor": 0,
  "metadata": {
    "colab": {
      "provenance": []
    },
    "kernelspec": {
      "name": "python3",
      "display_name": "Python 3"
    },
    "language_info": {
      "name": "python"
    }
  },
  "cells": [
    {
      "cell_type": "code",
      "execution_count": 2,
      "metadata": {
        "colab": {
          "base_uri": "https://localhost:8080/"
        },
        "id": "ru_poerlD5bq",
        "outputId": "e907d965-875e-43f0-a86f-964438569746"
      },
      "outputs": [
        {
          "output_type": "stream",
          "name": "stdout",
          "text": [
            "Collecting bs4\n",
            "  Downloading bs4-0.0.2-py2.py3-none-any.whl.metadata (411 bytes)\n",
            "Requirement already satisfied: beautifulsoup4 in /usr/local/lib/python3.10/dist-packages (from bs4) (4.12.3)\n",
            "Requirement already satisfied: soupsieve>1.2 in /usr/local/lib/python3.10/dist-packages (from beautifulsoup4->bs4) (2.6)\n",
            "Downloading bs4-0.0.2-py2.py3-none-any.whl (1.2 kB)\n",
            "Installing collected packages: bs4\n",
            "Successfully installed bs4-0.0.2\n"
          ]
        }
      ],
      "source": [
        "pip install bs4"
      ]
    },
    {
      "cell_type": "code",
      "source": [
        "from bs4 import BeautifulSoup\n",
        "from urllib import request\n",
        "import re\n",
        "\n",
        "url = 'https://www.aozora.gr.jp/cards/000148/files/2371_13943.html'\n",
        "response = request.urlopen(url)\n",
        "soup = BeautifulSoup(response, 'html.parser')\n",
        "response.close()\n",
        "\n",
        "main_text = soup.find('div', class_='main_text')\n",
        "\n",
        "tags_to_delete = main_text.find_all(['rp', 'rt'])\n",
        "for tag in tags_to_delete:\n",
        "    tag.decompose()\n",
        "\n",
        "main_text = main_text.get_text()\n",
        "main_text = re.sub(r\"[\\u3000\\n\\r]\", \"\", main_text)\n",
        "\n",
        "url = 'http://svn.sourceforge.jp/svnroot/slothlib/CSharp/Version1/SlothLib/NLP/Filter/StopWord/word/Japanese.txt'\n",
        "response = request.urlopen(url)\n",
        "stopwords_text = response.read().decode('utf-8')\n",
        "response.close()\n",
        "\n",
        "stopwords_list = stopwords_text.split(\"\\r\\n\")\n",
        "stopwords_list = [word for word in stopwords_list if word]\n",
        "\n",
        "split_text_list = ['近頃', 'は', '、', '人', 'を', '殺', 'し', 'たり', '、', '罪', 'を', '犯し', 'たり', 'する', '者', 'が', '多い', 'と', '思って', 'います', '。']\n",
        "\n",
        "result_text_list = [split_text for split_text in split_text_list if split_text not in stopwords_list]\n",
        "\n",
        "print(result_text_list)\n"
      ],
      "metadata": {
        "colab": {
          "base_uri": "https://localhost:8080/"
        },
        "id": "bU2BkNQMTvSV",
        "outputId": "353f2d99-1288-4371-a85a-c1b3e545680e"
      },
      "execution_count": 4,
      "outputs": [
        {
          "output_type": "stream",
          "name": "stdout",
          "text": [
            "['近頃', 'は', '、', 'を', '殺', 'し', 'たり', '、', '罪', 'を', '犯し', 'たり', 'する', 'が', '多い', 'と', '思って', 'います', '。']\n"
          ]
        }
      ]
    },
    {
      "cell_type": "code",
      "source": [],
      "metadata": {
        "id": "hCXUm5Xs187u"
      },
      "execution_count": null,
      "outputs": []
    }
  ]
}